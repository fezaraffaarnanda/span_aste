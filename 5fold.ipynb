{
 "cells": [
  {
   "cell_type": "code",
   "execution_count": 6,
   "metadata": {},
   "outputs": [],
   "source": [
    "import pandas as pd\n",
    "from sklearn.model_selection import train_test_split, KFold\n",
    "import os"
   ]
  },
  {
   "cell_type": "code",
   "execution_count": 3,
   "metadata": {},
   "outputs": [],
   "source": [
    "def save_to_txt(data, filepath):\n",
    "    with open(filepath, 'w', encoding='utf-8') as file:\n",
    "        for item in data:\n",
    "            file.write(item + '\\n')  # Tulis setiap baris ke file"
   ]
  },
  {
   "cell_type": "code",
   "execution_count": 2,
   "metadata": {},
   "outputs": [],
   "source": [
    "file_path = 'aste_annotator1.txt'\n",
    "\n",
    "with open(file_path, 'r', encoding='utf-8') as file:\n",
    "    lines = file.readlines()\n",
    "\n",
    "data = [line.strip() for line in lines]  # Hapus spasi atau newline di awal/akhir baris\n",
    "df = pd.DataFrame(data, columns=['text'])"
   ]
  },
  {
   "cell_type": "code",
   "execution_count": 4,
   "metadata": {},
   "outputs": [
    {
     "name": "stdout",
     "output_type": "stream",
     "text": [
      "Total data: 3319\n",
      "Test set (tetap): 498 (15.00%)\n",
      "Train + Val set: 2821 (85.00%)\n",
      "\n"
     ]
    }
   ],
   "source": [
    "# 1. Pertama, pisahkan 15% data untuk test (hold-out)\n",
    "train_val_df, test_df = train_test_split(df, test_size=0.15, random_state=42, shuffle=True)\n",
    "\n",
    "print(f\"Total data: {len(df)}\")\n",
    "print(f\"Test set (tetap): {len(test_df)} ({len(test_df)/len(df)*100:.2f}%)\")\n",
    "print(f\"Train + Val set: {len(train_val_df)} ({len(train_val_df)/len(df)*100:.2f}%)\\n\")"
   ]
  },
  {
   "cell_type": "code",
   "execution_count": 7,
   "metadata": {},
   "outputs": [
    {
     "name": "stdout",
     "output_type": "stream",
     "text": [
      "Fold 1:\n",
      "  Training data: 2256 data\n",
      "  Validation data: 565 data\n",
      "  Testing data (tetap): 498 data\n",
      "\n",
      "Fold 2:\n",
      "  Training data: 2257 data\n",
      "  Validation data: 564 data\n",
      "  Testing data (tetap): 498 data\n",
      "\n",
      "Fold 3:\n",
      "  Training data: 2257 data\n",
      "  Validation data: 564 data\n",
      "  Testing data (tetap): 498 data\n",
      "\n",
      "Fold 4:\n",
      "  Training data: 2257 data\n",
      "  Validation data: 564 data\n",
      "  Testing data (tetap): 498 data\n",
      "\n",
      "Fold 5:\n",
      "  Training data: 2257 data\n",
      "  Validation data: 564 data\n",
      "  Testing data (tetap): 498 data\n",
      "\n"
     ]
    }
   ],
   "source": [
    "# 2. Lakukan 5-fold cross validation pada train_val_df untuk mendapatkan split training dan validation\n",
    "kf = KFold(n_splits=5, shuffle=True, random_state=42)\n",
    "\n",
    "fold = 1\n",
    "for train_index, val_index in kf.split(train_val_df):\n",
    "    train_df = train_val_df.iloc[train_index]\n",
    "    val_df = train_val_df.iloc[val_index]\n",
    "    \n",
    "    # Buat direktori khusus untuk fold ini, misalnya data/govapp/fold1, fold2, dst.\n",
    "    save_directory = os.path.join('data', 'govapp', f'fold{fold}')\n",
    "    os.makedirs(save_directory, exist_ok=True)\n",
    "    \n",
    "    # Tentukan file path untuk masing-masing split\n",
    "    train_filepath = os.path.join(save_directory, 'train_triplets.txt')\n",
    "    dev_filepath   = os.path.join(save_directory, 'dev_triplets.txt')\n",
    "    test_filepath  = os.path.join(save_directory, 'test_triplets.txt')\n",
    "    \n",
    "    # Simpan data ke file teks (diasumsikan kolom 'text' berisi data yang akan disimpan)\n",
    "    save_to_txt(train_df['text'].tolist(), train_filepath)\n",
    "    save_to_txt(val_df['text'].tolist(), dev_filepath)\n",
    "    save_to_txt(test_df['text'].tolist(), test_filepath)\n",
    "    \n",
    "    print(f\"Fold {fold}:\")\n",
    "    print(f\"  Training data: {len(train_df)} data\")\n",
    "    print(f\"  Validation data: {len(val_df)} data\")\n",
    "    print(f\"  Testing data (tetap): {len(test_df)} data\\n\")\n",
    "    \n",
    "    fold += 1"
   ]
  }
 ],
 "metadata": {
  "kernelspec": {
   "display_name": "aste_env",
   "language": "python",
   "name": "python3"
  },
  "language_info": {
   "codemirror_mode": {
    "name": "ipython",
    "version": 3
   },
   "file_extension": ".py",
   "mimetype": "text/x-python",
   "name": "python",
   "nbconvert_exporter": "python",
   "pygments_lexer": "ipython3",
   "version": "3.12.9"
  }
 },
 "nbformat": 4,
 "nbformat_minor": 2
}
